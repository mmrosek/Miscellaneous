{
 "cells": [
  {
   "cell_type": "markdown",
   "metadata": {},
   "source": [
    "# Translation of Genetic Algorithm code from js to python"
   ]
  },
  {
   "cell_type": "code",
   "execution_count": null,
   "metadata": {},
   "outputs": [],
   "source": [
    "# // Genetic Algorithm, Evolving Shakespeare\n",
    "\n",
    "# // A class to describe a pseudo-DNA, i.e. genotype\n",
    "# //   Here, a virtual organism's DNA is an array of character.\n",
    "# //   Functionality:\n",
    "# //      -- convert DNA into a string\n",
    "# //      -- calculate DNA's \"fitness\"\n",
    "# //      -- mate DNA with another set of DNA\n",
    "# //      -- mutate DNA\n",
    "\n",
    "function newChar() {\n",
    "  let c = floor(random(63, 122));\n",
    "  if (c === 63) c = 32;\n",
    "  if (c === 64) c = 46;\n",
    "\n",
    "  return String.fromCharCode(c);\n",
    "}\n",
    "\n",
    "// Constructor (makes a random DNA)\n",
    "class DNA {\n",
    "  constructor(num) {\n",
    "    // The genetic sequence\n",
    "    this.genes = [];\n",
    "    this.fitness = 0;\n",
    "    for (let i = 0; i < num; i++) {\n",
    "      this.genes[i] = newChar(); // Pick from range of chars\n",
    "    }\n",
    "  }\n",
    "\n",
    "  // Converts character array to a String\n",
    "  getPhrase() {\n",
    "    return this.genes.join(\"\");\n",
    "  }\n",
    "\n",
    "  // Fitness function (returns floating point % of \"correct\" characters)\n",
    "  calcFitness(target) {\n",
    "    let score = 0;\n",
    "    for (let i = 0; i < this.genes.length; i++) {\n",
    "      if (this.genes[i] == target.charAt(i)) {\n",
    "        score++;\n",
    "      }\n",
    "    }\n",
    "    this.fitness = score / target.length;\n",
    "  }\n",
    "\n",
    "  // Crossover\n",
    "  crossover(partner) {\n",
    "    // A new child\n",
    "    let child = new DNA(this.genes.length);\n",
    "\n",
    "    let midpoint = floor(random(this.genes.length)); // Pick a midpoint\n",
    "\n",
    "    // Half from one, half from the other\n",
    "    for (let i = 0; i < this.genes.length; i++) {\n",
    "      if (i > midpoint) child.genes[i] = this.genes[i];\n",
    "      else child.genes[i] = partner.genes[i];\n",
    "    }\n",
    "    return child;\n",
    "  }\n",
    "\n",
    "  // Based on a mutation probability, picks a new random character\n",
    "  mutate(mutationRate) {\n",
    "    for (let i = 0; i < this.genes.length; i++) {\n",
    "      if (random(1) < mutationRate) {\n",
    "        this.genes[i] = newChar();\n",
    "      }\n",
    "    }\n",
    "  }\n",
    "}"
   ]
  },
  {
   "cell_type": "markdown",
   "metadata": {},
   "source": [
    "# Python"
   ]
  },
  {
   "cell_type": "code",
   "execution_count": 12,
   "metadata": {},
   "outputs": [],
   "source": [
    "import string\n",
    "import numpy as np\n",
    "import math"
   ]
  },
  {
   "cell_type": "code",
   "execution_count": 13,
   "metadata": {},
   "outputs": [],
   "source": [
    "def new_char():\n",
    "    \n",
    "    all_possible_chars = string.printable[:-10] + \" \"\n",
    "    idx = np.random.randint(len(all_possible_chars))\n",
    "    \n",
    "    return all_possible_chars[idx]"
   ]
  },
  {
   "cell_type": "code",
   "execution_count": 86,
   "metadata": {},
   "outputs": [],
   "source": [
    "class DNA:\n",
    "    def __init__(self, num_genes):\n",
    "        self.genes = []\n",
    "        self.fitness = 0\n",
    "        self.num_genes = num_genes\n",
    "    \n",
    "        for i in range(self.num_genes): \n",
    "            self.genes.append(new_char()) #Pick from range of chars\n",
    "\n",
    "    # Converts character array to a String\n",
    "    def get_phrase(self): \n",
    "        return \"\".join(self.genes);\n",
    "\n",
    "    # Fitness function (returns floating point % of \"correct\" characters)\n",
    "    def calc_fitness(self, target):\n",
    "        score = 0\n",
    "        for i in range(len(self.genes)):\n",
    "            if self.genes[i] == target[i]:\n",
    "                score += 1\n",
    "        self.fitness = score / len(target)\n",
    "\n",
    "    # Crossover\n",
    "    def crossover(self, partner):\n",
    "        # A new child\n",
    "        child = DNA(len(self.genes))\n",
    "\n",
    "        midpoint = min(max(2, np.random.randint(len(self.genes))), len(self.genes)-2) # Pick a midpoint\n",
    "        print(midpoint)\n",
    "        # Half from one, half from the other\n",
    "        for i in range(len(self.genes)):  \n",
    "            if (i > midpoint): child.genes[i] = self.genes[i]\n",
    "            else: child.genes[i] = partner.genes[i]\n",
    "\n",
    "        return child\n",
    "\n",
    "    # Based on a mutation probability, picks a new random character\n",
    "    def mutate(self, mut_rate):\n",
    "        for i in range(len(self.genes)):  \n",
    "            if (np.random.random() < mut_rate):\n",
    "                self.genes[i] = new_char()\n"
   ]
  },
  {
   "cell_type": "code",
   "execution_count": 76,
   "metadata": {},
   "outputs": [],
   "source": [
    "test = DNA(6)"
   ]
  },
  {
   "cell_type": "code",
   "execution_count": 77,
   "metadata": {},
   "outputs": [
    {
     "data": {
      "text/plain": [
       "['\\r', '$', '9', 'S', '>', '>']"
      ]
     },
     "execution_count": 77,
     "metadata": {},
     "output_type": "execute_result"
    }
   ],
   "source": [
    "test.genes"
   ]
  },
  {
   "cell_type": "code",
   "execution_count": 78,
   "metadata": {},
   "outputs": [],
   "source": [
    "x = DNA(6)"
   ]
  },
  {
   "cell_type": "code",
   "execution_count": 79,
   "metadata": {},
   "outputs": [
    {
     "data": {
      "text/plain": [
       "['d', 'd', '`', '-', ']', 'N']"
      ]
     },
     "execution_count": 79,
     "metadata": {},
     "output_type": "execute_result"
    }
   ],
   "source": [
    "x.genes"
   ]
  },
  {
   "cell_type": "code",
   "execution_count": 80,
   "metadata": {},
   "outputs": [
    {
     "name": "stdout",
     "output_type": "stream",
     "text": [
      "2\n"
     ]
    }
   ],
   "source": [
    "child = x.crossover(test)"
   ]
  },
  {
   "cell_type": "code",
   "execution_count": 82,
   "metadata": {},
   "outputs": [
    {
     "data": {
      "text/plain": [
       "['\\r', '$', '9', '-', ']', 'N']"
      ]
     },
     "execution_count": 82,
     "metadata": {},
     "output_type": "execute_result"
    }
   ],
   "source": [
    "child.genes"
   ]
  }
 ],
 "metadata": {
  "kernelspec": {
   "display_name": "Python 3",
   "language": "python",
   "name": "python3"
  },
  "language_info": {
   "codemirror_mode": {
    "name": "ipython",
    "version": 3
   },
   "file_extension": ".py",
   "mimetype": "text/x-python",
   "name": "python",
   "nbconvert_exporter": "python",
   "pygments_lexer": "ipython3",
   "version": "3.6.3"
  }
 },
 "nbformat": 4,
 "nbformat_minor": 2
}
