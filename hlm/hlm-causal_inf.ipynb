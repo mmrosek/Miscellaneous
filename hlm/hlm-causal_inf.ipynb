{
 "cells": [
  {
   "cell_type": "code",
   "execution_count": 2,
   "metadata": {},
   "outputs": [],
   "source": [
    "import pandas as pd\n",
    "import numpy as np\n",
    "from sklearn.linear_model import LinearRegression as lr\n",
    "from statsmodels.regression.mixed_linear_model import MixedLM as mlm\n",
    "import statsmodels.api as sm\n",
    "import statsmodels.formula.api as smf"
   ]
  },
  {
   "cell_type": "code",
   "execution_count": 3,
   "metadata": {},
   "outputs": [
    {
     "data": {
      "text/html": [
       "<style>.container { width:100% !important; }</style>"
      ],
      "text/plain": [
       "<IPython.core.display.HTML object>"
      ]
     },
     "metadata": {},
     "output_type": "display_data"
    }
   ],
   "source": [
    "from IPython.core.display import display, HTML\n",
    "display(HTML(\"<style>.container { width:100% !important; }</style>\"))"
   ]
  },
  {
   "cell_type": "code",
   "execution_count": 4,
   "metadata": {},
   "outputs": [
    {
     "data": {
      "text/plain": [
       "'\\nToDo:\\nReview HLM theory\\nUnderstand random effects\\nRead up on demeaning and test with continuous feature\\nUnderstand why coefficient for cooler is sensitive to sample size by group but not to cooler assignment probability\\n'"
      ]
     },
     "execution_count": 4,
     "metadata": {},
     "output_type": "execute_result"
    }
   ],
   "source": [
    "'''\n",
    "ToDo:\n",
    "Read up on demeaning and test with continuous feature\n",
    "Understand why coefficient for cooler is sensitive to sample size by group but not to cooler assignment probability\n",
    "'''"
   ]
  },
  {
   "cell_type": "markdown",
   "metadata": {},
   "source": [
    "# Building simulated dataset\n",
    "### Example from https://www.youtube.com/watch?v=HPC42U9xtQY"
   ]
  },
  {
   "cell_type": "code",
   "execution_count": 14,
   "metadata": {},
   "outputs": [
    {
     "name": "stdout",
     "output_type": "stream",
     "text": [
      "(75000, 3)\n"
     ]
    }
   ],
   "source": [
    "n1=50000\n",
    "n2=int(n1/2)\n",
    "p1=[2/3,1/3]\n",
    "p2=[1/3,2/3]\n",
    "p3=[0.5,0.5]\n",
    "nongold_base_profit = 21\n",
    "nongold_cooler_lift = 2\n",
    "gold_base_profit = 30\n",
    "gold_cooler_lift = 5\n",
    "noise_var = 1\n",
    "\n",
    "# nongold = poorer area aka area expecting less lift from cooler\n",
    "data_nongold = pd.DataFrame({\n",
    "    'y_profit': nongold_base_profit - noise_var*np.random.randn(n1),\n",
    "    'X_gold':0,\n",
    "    'w_cooler': np.random.choice([0,1], size=(n1,), p=p1)\n",
    "    }).assign(y_profit=lambda df: np.where(df.w_cooler, \n",
    "                                    df.y_profit+nongold_cooler_lift, df.y_profit))\n",
    "\n",
    "# gold = richer area aka expecting greater lift from cooler\n",
    "data_gold = pd.DataFrame({\n",
    "    'y_profit': gold_base_profit - noise_var*np.random.randn(n2),\n",
    "    'X_gold':1,\n",
    "    'w_cooler': np.random.choice([0,1], size=(n2,), p=p2)\n",
    "    }).assign(y_profit=lambda df: np.where(df.w_cooler, \n",
    "                                    df.y_profit+gold_cooler_lift, df.y_profit))\n",
    "\n",
    "data = data_gold.append(data_nongold)\n",
    "print(data.shape)"
   ]
  },
  {
   "cell_type": "code",
   "execution_count": 15,
   "metadata": {},
   "outputs": [],
   "source": [
    "### Interaction terms ###\n",
    "## Should test out with continuous variables to determine necessity of demeaning\n",
    "\n",
    "# Coeff. for w_cooler and di are same regardless of sample size imbalance \n",
    "# across groups and are the desired values (poor / rich)\n",
    "# Standard interaction\n",
    "data_reg = data.assign(\n",
    "    demeaned_interaction=lambda df:\n",
    "    df.w_cooler * df.X_gold)\n",
    "\n",
    "# 'CORRECT'\n",
    "# data_reg = data.assign(\n",
    "#     demeaned_interaction=lambda df:\n",
    "#     df.w_cooler * (df.X_gold-df.X_gold.mean()))"
   ]
  },
  {
   "cell_type": "code",
   "execution_count": 40,
   "metadata": {},
   "outputs": [
    {
     "name": "stdout",
     "output_type": "stream",
     "text": [
      "Average cooler effect (b/w gold and nongold): 3.5\n",
      "Difference in conditional mean (w/ cooler - w/o cooler): 6.214059589944174\n"
     ]
    }
   ],
   "source": [
    "# Diff. in conditional mean w/ imbalanced treatment across gold/nongold belies the true avg effect\n",
    "# More coolers are asigned to the 'rich' group (with higher base profit) artificially inflates the lift\n",
    "print(f'Average cooler effect (b/w gold and nongold): {(nongold_cooler_lift + gold_cooler_lift)/2}')\n",
    "print(f'Difference in conditional mean (w/ cooler - w/o cooler): {data_reg[data_reg.w_cooler==1].y_profit.mean() - data_reg[data_reg.w_cooler==0].y_profit.mean()}')"
   ]
  },
  {
   "cell_type": "code",
   "execution_count": 41,
   "metadata": {},
   "outputs": [],
   "source": [
    "# w_cooler coef is mean of treatment effects when samples are equal size - why?\n",
    "lm = lr().fit(data_reg[['X_gold', 'w_cooler']],\n",
    "                            data_reg.y_profit)"
   ]
  },
  {
   "cell_type": "code",
   "execution_count": 42,
   "metadata": {},
   "outputs": [
    {
     "name": "stdout",
     "output_type": "stream",
     "text": [
      "[10.66987958  2.98234688]\n",
      "20.680272191017444\n"
     ]
    }
   ],
   "source": [
    "print(lm.coef_)\n",
    "print(lm.intercept_)"
   ]
  },
  {
   "cell_type": "code",
   "execution_count": 353,
   "metadata": {},
   "outputs": [],
   "source": [
    "# w_cooler coef is mean of groups when samples are equal size\n",
    "lm = lr().fit(data_reg[['X_gold', 'w_cooler', 'demeaned_interaction']],\n",
    "                            data_reg.y_profit)"
   ]
  },
  {
   "cell_type": "code",
   "execution_count": 354,
   "metadata": {
    "scrolled": true
   },
   "outputs": [
    {
     "name": "stdout",
     "output_type": "stream",
     "text": [
      "[4.99605183 2.99395619 2.00861648]\n"
     ]
    },
    {
     "data": {
      "text/plain": [
       "19.99994424125624"
      ]
     },
     "execution_count": 354,
     "metadata": {},
     "output_type": "execute_result"
    }
   ],
   "source": [
    "print(lm.coef_)\n",
    "lm.intercept_"
   ]
  },
  {
   "cell_type": "code",
   "execution_count": 310,
   "metadata": {},
   "outputs": [
    {
     "data": {
      "text/plain": [
       "array([29.99061876, 25.00330994, 20.0006572 , 22.99105811])"
      ]
     },
     "execution_count": 310,
     "metadata": {},
     "output_type": "execute_result"
    }
   ],
   "source": [
    "data_reg['pred']=lm.predict(data_reg[['X_gold', 'w_cooler', 'demeaned_interaction']])\n",
    "data_reg.pred.unique()"
   ]
  },
  {
   "cell_type": "markdown",
   "metadata": {},
   "source": [
    "# Fitting HLM/Mixed Effects Model with random slopes for cooler (one for both gold and nongold) and random intercepts\n",
    "### https://www.statsmodels.org/stable/examples/notebooks/generated/mixed_lm_example.html"
   ]
  },
  {
   "cell_type": "code",
   "execution_count": 24,
   "metadata": {},
   "outputs": [],
   "source": [
    "data_reg['intercept']=1\n",
    "exog = data_reg[['intercept', 'w_cooler']]"
   ]
  },
  {
   "cell_type": "code",
   "execution_count": 25,
   "metadata": {},
   "outputs": [
    {
     "name": "stdout",
     "output_type": "stream",
     "text": [
      "               Mixed Linear Model Regression Results\n",
      "===================================================================\n",
      "Model:               MixedLM    Dependent Variable:    y_profit    \n",
      "No. Observations:    75000      Method:                REML        \n",
      "No. Groups:          2          Scale:                 1.0003      \n",
      "Min. group size:     25000      Likelihood:            -106449.9472\n",
      "Max. group size:     50000      Converged:             Yes         \n",
      "Mean group size:     37500.0                                       \n",
      "-------------------------------------------------------------------\n",
      "                         Coef.  Std.Err.   z    P>|z| [0.025 0.975]\n",
      "-------------------------------------------------------------------\n",
      "intercept                25.510    2.427 10.509 0.000 20.752 30.267\n",
      "w_cooler                  3.485    1.046  3.331 0.001  1.435  5.536\n",
      "intercept Var            11.785    7.056                           \n",
      "intercept x w_cooler Cov  2.878    2.219                           \n",
      "w_cooler Var              2.189    0.689                           \n",
      "===================================================================\n",
      "\n"
     ]
    },
    {
     "name": "stderr",
     "output_type": "stream",
     "text": [
      "/home/miller/anaconda3/envs/dl/lib/python3.7/site-packages/statsmodels/regression/mixed_linear_model.py:2115: ConvergenceWarning: The Hessian matrix at the estimated parameter values is not positive definite.\n",
      "  warnings.warn(msg, ConvergenceWarning)\n"
     ]
    }
   ],
   "source": [
    "md = sm.MixedLM(data_reg.y_profit, exog,\n",
    "           groups=data_reg.X_gold, exog_re=exog)\n",
    "mdf = md.fit()\n",
    "print(mdf.summary())"
   ]
  },
  {
   "cell_type": "markdown",
   "metadata": {},
   "source": [
    "# Comparing random+fixed effects with data generating params"
   ]
  },
  {
   "cell_type": "code",
   "execution_count": 35,
   "metadata": {},
   "outputs": [],
   "source": [
    "re = mdf.random_effects"
   ]
  },
  {
   "cell_type": "code",
   "execution_count": 31,
   "metadata": {},
   "outputs": [
    {
     "name": "stdout",
     "output_type": "stream",
     "text": [
      "Random intercept for nongold + grand intercept: 21.01395598683601\n",
      "Nongold base profit: 21\n"
     ]
    }
   ],
   "source": [
    "print(f'Random intercept for nongold + grand intercept: {re[0][\"intercept\"] + mdf.params[0]}')\n",
    "print(f'Nongold base profit: {nongold_base_profit}')"
   ]
  },
  {
   "cell_type": "code",
   "execution_count": 34,
   "metadata": {},
   "outputs": [
    {
     "name": "stdout",
     "output_type": "stream",
     "text": [
      "Random intercept for gold + grand intercept: 30.005595251403665\n",
      "Gold base profit: 30\n"
     ]
    }
   ],
   "source": [
    "print(f'Random intercept for gold + grand intercept: {re[1][\"intercept\"] + mdf.params[0]}')\n",
    "print(f'Gold base profit: {gold_base_profit}')"
   ]
  },
  {
   "cell_type": "code",
   "execution_count": 38,
   "metadata": {},
   "outputs": [
    {
     "name": "stdout",
     "output_type": "stream",
     "text": [
      "Random slope for nongold + grand intercept: 1.9770518839119195\n",
      "Nongold cooler lift: 2\n"
     ]
    }
   ],
   "source": [
    "print(f'Random slope for nongold + grand intercept: {re[0][\"w_cooler\"] + mdf.params[1]}')\n",
    "print(f'Nongold cooler lift: {nongold_cooler_lift}')"
   ]
  },
  {
   "cell_type": "code",
   "execution_count": 37,
   "metadata": {},
   "outputs": [
    {
     "name": "stdout",
     "output_type": "stream",
     "text": [
      "Random slope for gold + grand intercept: 4.993932686293157\n",
      "Gold cooler lift: 5\n"
     ]
    }
   ],
   "source": [
    "print(f'Random slope for gold + grand intercept: {re[1][\"w_cooler\"] + mdf.params[1]}')\n",
    "print(f'Gold cooler lift: {gold_cooler_lift}')"
   ]
  },
  {
   "cell_type": "code",
   "execution_count": null,
   "metadata": {},
   "outputs": [],
   "source": []
  }
 ],
 "metadata": {
  "kernelspec": {
   "display_name": "Python 3",
   "language": "python",
   "name": "python3"
  },
  "language_info": {
   "codemirror_mode": {
    "name": "ipython",
    "version": 3
   },
   "file_extension": ".py",
   "mimetype": "text/x-python",
   "name": "python",
   "nbconvert_exporter": "python",
   "pygments_lexer": "ipython3",
   "version": "3.7.4"
  }
 },
 "nbformat": 4,
 "nbformat_minor": 2
}
