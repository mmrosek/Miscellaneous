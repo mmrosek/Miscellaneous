{
 "cells": [
  {
   "cell_type": "code",
   "execution_count": 383,
   "metadata": {},
   "outputs": [],
   "source": [
    "import pandas as pd\n",
    "import numpy as np\n",
    "from sklearn.linear_model import LinearRegression as lr\n",
    "from statsmodels.regression.mixed_linear_model import MixedLM as mlm\n",
    "import statsmodels.api as sm\n",
    "import statsmodels.formula.api as smf"
   ]
  },
  {
   "cell_type": "code",
   "execution_count": 378,
   "metadata": {},
   "outputs": [
    {
     "data": {
      "text/html": [
       "<style>.container { width:100% !important; }</style>"
      ],
      "text/plain": [
       "<IPython.core.display.HTML object>"
      ]
     },
     "metadata": {},
     "output_type": "display_data"
    }
   ],
   "source": [
    "from IPython.core.display import display, HTML\n",
    "display(HTML(\"<style>.container { width:100% !important; }</style>\"))"
   ]
  },
  {
   "cell_type": "code",
   "execution_count": null,
   "metadata": {},
   "outputs": [],
   "source": [
    "'''\n",
    "ToDo:\n",
    "Review HLM theory\n",
    "Understand random effects\n",
    "Read up on demeaning and test with continuous feature\n",
    "Understand why coefficient for cooler is sensitive to sample size by group but not to cooler assignment probability\n",
    "'''"
   ]
  },
  {
   "cell_type": "code",
   "execution_count": null,
   "metadata": {},
   "outputs": [],
   "source": []
  },
  {
   "cell_type": "code",
   "execution_count": 359,
   "metadata": {},
   "outputs": [
    {
     "name": "stdout",
     "output_type": "stream",
     "text": [
      "(75000, 3)\n"
     ]
    }
   ],
   "source": [
    "n1=50000\n",
    "n2=int(n1/2)\n",
    "p1=[2/3,1/3]\n",
    "p2=[1/3,2/3]\n",
    "p3=[0.5,0.5]\n",
    "\n",
    "# nongold=poor\n",
    "# effect of cooler = 3\n",
    "data_nongold = pd.DataFrame({\n",
    "    'y_profit': 20 - 0.5*np.random.randn(n1),\n",
    "    'X_gold':0,\n",
    "    'w_cooler': np.random.choice([0,1], size=(n1,), p=p1)\n",
    "    }).assign(y_profit=lambda df: np.where(df.w_cooler, df.y_profit+3, df.y_profit))\n",
    "\n",
    "# gold=rich\n",
    "# effect of cooler is 5\n",
    "data_gold = pd.DataFrame({\n",
    "    'y_profit': 25 - 0.5*np.random.randn(n2),\n",
    "    'X_gold':1,\n",
    "    'w_cooler': np.random.choice([0,1], size=(n2,), p=p1)\n",
    "    }).assign(y_profit=lambda df: np.where(df.w_cooler, df.y_profit+5, df.y_profit))\n",
    "\n",
    "data = data_gold.append(data_nongold)\n",
    "print(data.shape)"
   ]
  },
  {
   "cell_type": "code",
   "execution_count": 349,
   "metadata": {},
   "outputs": [],
   "source": [
    "### Interaction terms ###\n",
    "## Should test out with continuous variables to determine necessity of demeaning\n",
    "\n",
    "# Coeff. for w_cooler and di are same regardless of sample size imbalance \n",
    "# across groups and are the desired values (poor / rich)\n",
    "# Standard interaction\n",
    "data_reg = data.assign(\n",
    "    demeaned_interaction=lambda df:\n",
    "    df.w_cooler * df.X_gold)\n",
    "\n",
    "# 'CORRECT'\n",
    "# data_reg = data.assign(\n",
    "#     demeaned_interaction=lambda df:\n",
    "#     df.w_cooler * (df.X_gold-df.X_gold.mean()))"
   ]
  },
  {
   "cell_type": "code",
   "execution_count": 350,
   "metadata": {},
   "outputs": [
    {
     "data": {
      "text/plain": [
       "5.506057320884718"
      ]
     },
     "execution_count": 350,
     "metadata": {},
     "output_type": "execute_result"
    }
   ],
   "source": [
    "# Diff. in conditional mean when treatment is imbalanced (p1 and p2) belies \n",
    "# the true average effect, 4 (yields 6 when sample size is equal for groups )\n",
    "# If more coolers are asigned to the 'rich' group, this artificially \n",
    "# inflates the effect of the coolers (using equal prob for both cooler distributions yields 4)\n",
    "data_reg[data_reg.w_cooler==1].y_profit.mean() - data_reg[data_reg.w_cooler==0].y_profit.mean() "
   ]
  },
  {
   "cell_type": "code",
   "execution_count": 351,
   "metadata": {},
   "outputs": [],
   "source": [
    "# w_cooler coef is mean of treatment effects when samples are equal size - why?\n",
    "lm = lr().fit(data_reg[['X_gold', 'w_cooler']],\n",
    "                            data_reg.y_profit)"
   ]
  },
  {
   "cell_type": "code",
   "execution_count": 352,
   "metadata": {},
   "outputs": [
    {
     "name": "stdout",
     "output_type": "stream",
     "text": [
      "[6.11679798 3.66120352]\n",
      "19.777056942949343\n"
     ]
    }
   ],
   "source": [
    "print(lm.coef_)\n",
    "print(lm.intercept_)"
   ]
  },
  {
   "cell_type": "code",
   "execution_count": 353,
   "metadata": {},
   "outputs": [],
   "source": [
    "# w_cooler coef is mean of groups when samples are equal size\n",
    "lm = lr().fit(data_reg[['X_gold', 'w_cooler', 'demeaned_interaction']],\n",
    "                            data_reg.y_profit)"
   ]
  },
  {
   "cell_type": "code",
   "execution_count": 354,
   "metadata": {
    "scrolled": true
   },
   "outputs": [
    {
     "name": "stdout",
     "output_type": "stream",
     "text": [
      "[4.99605183 2.99395619 2.00861648]\n"
     ]
    },
    {
     "data": {
      "text/plain": [
       "19.99994424125624"
      ]
     },
     "execution_count": 354,
     "metadata": {},
     "output_type": "execute_result"
    }
   ],
   "source": [
    "print(lm.coef_)\n",
    "lm.intercept_"
   ]
  },
  {
   "cell_type": "code",
   "execution_count": 310,
   "metadata": {},
   "outputs": [
    {
     "data": {
      "text/plain": [
       "array([29.99061876, 25.00330994, 20.0006572 , 22.99105811])"
      ]
     },
     "execution_count": 310,
     "metadata": {},
     "output_type": "execute_result"
    }
   ],
   "source": [
    "data_reg['pred']=lm.predict(data_reg[['X_gold', 'w_cooler', 'demeaned_interaction']])\n",
    "data_reg.pred.unique()"
   ]
  },
  {
   "cell_type": "code",
   "execution_count": 311,
   "metadata": {},
   "outputs": [
    {
     "data": {
      "text/html": [
       "<div>\n",
       "<style scoped>\n",
       "    .dataframe tbody tr th:only-of-type {\n",
       "        vertical-align: middle;\n",
       "    }\n",
       "\n",
       "    .dataframe tbody tr th {\n",
       "        vertical-align: top;\n",
       "    }\n",
       "\n",
       "    .dataframe thead th {\n",
       "        text-align: right;\n",
       "    }\n",
       "</style>\n",
       "<table border=\"1\" class=\"dataframe\">\n",
       "  <thead>\n",
       "    <tr style=\"text-align: right;\">\n",
       "      <th></th>\n",
       "      <th>y_profit</th>\n",
       "      <th>X_gold</th>\n",
       "      <th>w_cooler</th>\n",
       "      <th>demeaned_interaction</th>\n",
       "      <th>pred</th>\n",
       "    </tr>\n",
       "  </thead>\n",
       "  <tbody>\n",
       "    <tr>\n",
       "      <td>0</td>\n",
       "      <td>29.843811</td>\n",
       "      <td>1</td>\n",
       "      <td>1</td>\n",
       "      <td>1</td>\n",
       "      <td>29.990619</td>\n",
       "    </tr>\n",
       "    <tr>\n",
       "      <td>1</td>\n",
       "      <td>29.821441</td>\n",
       "      <td>1</td>\n",
       "      <td>1</td>\n",
       "      <td>1</td>\n",
       "      <td>29.990619</td>\n",
       "    </tr>\n",
       "    <tr>\n",
       "      <td>2</td>\n",
       "      <td>29.638247</td>\n",
       "      <td>1</td>\n",
       "      <td>1</td>\n",
       "      <td>1</td>\n",
       "      <td>29.990619</td>\n",
       "    </tr>\n",
       "    <tr>\n",
       "      <td>3</td>\n",
       "      <td>29.778221</td>\n",
       "      <td>1</td>\n",
       "      <td>1</td>\n",
       "      <td>1</td>\n",
       "      <td>29.990619</td>\n",
       "    </tr>\n",
       "    <tr>\n",
       "      <td>4</td>\n",
       "      <td>29.636182</td>\n",
       "      <td>1</td>\n",
       "      <td>1</td>\n",
       "      <td>1</td>\n",
       "      <td>29.990619</td>\n",
       "    </tr>\n",
       "    <tr>\n",
       "      <td>5</td>\n",
       "      <td>30.639803</td>\n",
       "      <td>1</td>\n",
       "      <td>1</td>\n",
       "      <td>1</td>\n",
       "      <td>29.990619</td>\n",
       "    </tr>\n",
       "    <tr>\n",
       "      <td>6</td>\n",
       "      <td>24.607369</td>\n",
       "      <td>1</td>\n",
       "      <td>0</td>\n",
       "      <td>0</td>\n",
       "      <td>25.003310</td>\n",
       "    </tr>\n",
       "    <tr>\n",
       "      <td>7</td>\n",
       "      <td>24.571288</td>\n",
       "      <td>1</td>\n",
       "      <td>0</td>\n",
       "      <td>0</td>\n",
       "      <td>25.003310</td>\n",
       "    </tr>\n",
       "    <tr>\n",
       "      <td>8</td>\n",
       "      <td>30.243053</td>\n",
       "      <td>1</td>\n",
       "      <td>1</td>\n",
       "      <td>1</td>\n",
       "      <td>29.990619</td>\n",
       "    </tr>\n",
       "    <tr>\n",
       "      <td>9</td>\n",
       "      <td>30.805136</td>\n",
       "      <td>1</td>\n",
       "      <td>1</td>\n",
       "      <td>1</td>\n",
       "      <td>29.990619</td>\n",
       "    </tr>\n",
       "  </tbody>\n",
       "</table>\n",
       "</div>"
      ],
      "text/plain": [
       "    y_profit  X_gold  w_cooler  demeaned_interaction       pred\n",
       "0  29.843811       1         1                     1  29.990619\n",
       "1  29.821441       1         1                     1  29.990619\n",
       "2  29.638247       1         1                     1  29.990619\n",
       "3  29.778221       1         1                     1  29.990619\n",
       "4  29.636182       1         1                     1  29.990619\n",
       "5  30.639803       1         1                     1  29.990619\n",
       "6  24.607369       1         0                     0  25.003310\n",
       "7  24.571288       1         0                     0  25.003310\n",
       "8  30.243053       1         1                     1  29.990619\n",
       "9  30.805136       1         1                     1  29.990619"
      ]
     },
     "execution_count": 311,
     "metadata": {},
     "output_type": "execute_result"
    }
   ],
   "source": [
    "data_reg.head(10)"
   ]
  },
  {
   "cell_type": "code",
   "execution_count": 312,
   "metadata": {},
   "outputs": [
    {
     "data": {
      "text/html": [
       "<div>\n",
       "<style scoped>\n",
       "    .dataframe tbody tr th:only-of-type {\n",
       "        vertical-align: middle;\n",
       "    }\n",
       "\n",
       "    .dataframe tbody tr th {\n",
       "        vertical-align: top;\n",
       "    }\n",
       "\n",
       "    .dataframe thead th {\n",
       "        text-align: right;\n",
       "    }\n",
       "</style>\n",
       "<table border=\"1\" class=\"dataframe\">\n",
       "  <thead>\n",
       "    <tr style=\"text-align: right;\">\n",
       "      <th></th>\n",
       "      <th>y_profit</th>\n",
       "      <th>X_gold</th>\n",
       "      <th>w_cooler</th>\n",
       "      <th>demeaned_interaction</th>\n",
       "      <th>pred</th>\n",
       "    </tr>\n",
       "  </thead>\n",
       "  <tbody>\n",
       "    <tr>\n",
       "      <td>49990</td>\n",
       "      <td>19.744814</td>\n",
       "      <td>0</td>\n",
       "      <td>0</td>\n",
       "      <td>0</td>\n",
       "      <td>20.000657</td>\n",
       "    </tr>\n",
       "    <tr>\n",
       "      <td>49991</td>\n",
       "      <td>19.174592</td>\n",
       "      <td>0</td>\n",
       "      <td>0</td>\n",
       "      <td>0</td>\n",
       "      <td>20.000657</td>\n",
       "    </tr>\n",
       "    <tr>\n",
       "      <td>49992</td>\n",
       "      <td>22.877663</td>\n",
       "      <td>0</td>\n",
       "      <td>1</td>\n",
       "      <td>0</td>\n",
       "      <td>22.991058</td>\n",
       "    </tr>\n",
       "    <tr>\n",
       "      <td>49993</td>\n",
       "      <td>20.247990</td>\n",
       "      <td>0</td>\n",
       "      <td>0</td>\n",
       "      <td>0</td>\n",
       "      <td>20.000657</td>\n",
       "    </tr>\n",
       "    <tr>\n",
       "      <td>49994</td>\n",
       "      <td>19.759925</td>\n",
       "      <td>0</td>\n",
       "      <td>0</td>\n",
       "      <td>0</td>\n",
       "      <td>20.000657</td>\n",
       "    </tr>\n",
       "    <tr>\n",
       "      <td>49995</td>\n",
       "      <td>20.199899</td>\n",
       "      <td>0</td>\n",
       "      <td>0</td>\n",
       "      <td>0</td>\n",
       "      <td>20.000657</td>\n",
       "    </tr>\n",
       "    <tr>\n",
       "      <td>49996</td>\n",
       "      <td>19.875817</td>\n",
       "      <td>0</td>\n",
       "      <td>0</td>\n",
       "      <td>0</td>\n",
       "      <td>20.000657</td>\n",
       "    </tr>\n",
       "    <tr>\n",
       "      <td>49997</td>\n",
       "      <td>23.827834</td>\n",
       "      <td>0</td>\n",
       "      <td>1</td>\n",
       "      <td>0</td>\n",
       "      <td>22.991058</td>\n",
       "    </tr>\n",
       "    <tr>\n",
       "      <td>49998</td>\n",
       "      <td>23.479412</td>\n",
       "      <td>0</td>\n",
       "      <td>1</td>\n",
       "      <td>0</td>\n",
       "      <td>22.991058</td>\n",
       "    </tr>\n",
       "    <tr>\n",
       "      <td>49999</td>\n",
       "      <td>22.425026</td>\n",
       "      <td>0</td>\n",
       "      <td>1</td>\n",
       "      <td>0</td>\n",
       "      <td>22.991058</td>\n",
       "    </tr>\n",
       "  </tbody>\n",
       "</table>\n",
       "</div>"
      ],
      "text/plain": [
       "        y_profit  X_gold  w_cooler  demeaned_interaction       pred\n",
       "49990  19.744814       0         0                     0  20.000657\n",
       "49991  19.174592       0         0                     0  20.000657\n",
       "49992  22.877663       0         1                     0  22.991058\n",
       "49993  20.247990       0         0                     0  20.000657\n",
       "49994  19.759925       0         0                     0  20.000657\n",
       "49995  20.199899       0         0                     0  20.000657\n",
       "49996  19.875817       0         0                     0  20.000657\n",
       "49997  23.827834       0         1                     0  22.991058\n",
       "49998  23.479412       0         1                     0  22.991058\n",
       "49999  22.425026       0         1                     0  22.991058"
      ]
     },
     "execution_count": 312,
     "metadata": {},
     "output_type": "execute_result"
    }
   ],
   "source": [
    "data_reg.tail(10)"
   ]
  },
  {
   "cell_type": "markdown",
   "metadata": {},
   "source": [
    "# HLM"
   ]
  },
  {
   "cell_type": "code",
   "execution_count": 366,
   "metadata": {},
   "outputs": [],
   "source": [
    "mod = mlm(data_reg.y_profit.values, data_reg.w_cooler.values\n",
    "          , data_reg.X_gold)\n",
    "res = mod.fit()"
   ]
  },
  {
   "cell_type": "code",
   "execution_count": 367,
   "metadata": {},
   "outputs": [
    {
     "data": {
      "text/html": [
       "<table class=\"simpletable\">\n",
       "<tr>\n",
       "       <td>Model:</td>       <td>MixedLM</td> <td>Dependent Variable:</td>      <td>y</td>     \n",
       "</tr>\n",
       "<tr>\n",
       "  <td>No. Observations:</td>  <td>75000</td>        <td>Method:</td>          <td>REML</td>    \n",
       "</tr>\n",
       "<tr>\n",
       "     <td>No. Groups:</td>       <td>2</td>          <td>Scale:</td>          <td>0.4483</td>   \n",
       "</tr>\n",
       "<tr>\n",
       "  <td>Min. group size:</td>   <td>25000</td>      <td>Likelihood:</td>     <td>-76350.1439</td>\n",
       "</tr>\n",
       "<tr>\n",
       "  <td>Max. group size:</td>   <td>50000</td>      <td>Converged:</td>          <td>Yes</td>    \n",
       "</tr>\n",
       "<tr>\n",
       "  <td>Mean group size:</td>  <td>37500.0</td>          <td></td>                <td></td>      \n",
       "</tr>\n",
       "</table>\n",
       "<table class=\"simpletable\">\n",
       "<tr>\n",
       "      <td></td>       <th>Coef.</th>  <th>Std.Err.</th>    <th>z</th>    <th>P>|z|</th> <th>[0.025</th> <th>0.975]</th>\n",
       "</tr>\n",
       "<tr>\n",
       "  <th>x1</th>         <td>3.661</td>    <td>0.005</td>  <td>705.742</td> <td>0.000</td>  <td>3.651</td>  <td>3.671</td>\n",
       "</tr>\n",
       "<tr>\n",
       "  <th>Group Var</th> <td>102.628</td>  <td>50.147</td>     <td></td>       <td></td>       <td></td>       <td></td>   \n",
       "</tr>\n",
       "</table>"
      ],
      "text/plain": [
       "<class 'statsmodels.iolib.summary2.Summary'>\n",
       "\"\"\"\n",
       "          Mixed Linear Model Regression Results\n",
       "=========================================================\n",
       "Model:            MixedLM Dependent Variable: y          \n",
       "No. Observations: 75000   Method:             REML       \n",
       "No. Groups:       2       Scale:              0.4483     \n",
       "Min. group size:  25000   Likelihood:         -76350.1439\n",
       "Max. group size:  50000   Converged:          Yes        \n",
       "Mean group size:  37500.0                                \n",
       "---------------------------------------------------------\n",
       "              Coef.  Std.Err.    z    P>|z| [0.025 0.975]\n",
       "---------------------------------------------------------\n",
       "x1             3.661    0.005 705.742 0.000  3.651  3.671\n",
       "Group Var    102.628   50.147                            \n",
       "=========================================================\n",
       "\n",
       "\"\"\""
      ]
     },
     "execution_count": 367,
     "metadata": {},
     "output_type": "execute_result"
    }
   ],
   "source": [
    "res.summary()"
   ]
  },
  {
   "cell_type": "code",
   "execution_count": 370,
   "metadata": {},
   "outputs": [
    {
     "data": {
      "text/plain": [
       "array([  3.6612098 , 228.95212851])"
      ]
     },
     "execution_count": 370,
     "metadata": {},
     "output_type": "execute_result"
    }
   ],
   "source": [
    "res.params"
   ]
  },
  {
   "cell_type": "code",
   "execution_count": 372,
   "metadata": {},
   "outputs": [
    {
     "data": {
      "text/plain": [
       "{0: Group Var    19.777053\n",
       " dtype: float64, 1: Group Var    25.893846\n",
       " dtype: float64}"
      ]
     },
     "execution_count": 372,
     "metadata": {},
     "output_type": "execute_result"
    }
   ],
   "source": [
    "res.random_effects"
   ]
  },
  {
   "cell_type": "code",
   "execution_count": null,
   "metadata": {},
   "outputs": [],
   "source": []
  },
  {
   "cell_type": "code",
   "execution_count": 374,
   "metadata": {},
   "outputs": [
    {
     "name": "stdout",
     "output_type": "stream",
     "text": [
      "          Mixed Linear Model Regression Results\n",
      "=========================================================\n",
      "Model:            MixedLM Dependent Variable: y_profit   \n",
      "No. Observations: 75000   Method:             REML       \n",
      "No. Groups:       2       Scale:              0.4482     \n",
      "Min. group size:  25000   Likelihood:         -76342.3102\n",
      "Max. group size:  50000   Converged:          Yes        \n",
      "Mean group size:  37500.0                                \n",
      "---------------------------------------------------------\n",
      "              Coef.  Std.Err.    z    P>|z| [0.025 0.975]\n",
      "---------------------------------------------------------\n",
      "Intercept     22.835    1.666  13.707 0.000 19.570 26.101\n",
      "w_cooler       3.661    0.005 705.770 0.000  3.651  3.671\n",
      "Group Var      5.551    4.894                            \n",
      "=========================================================\n",
      "\n"
     ]
    }
   ],
   "source": [
    "md = smf.mixedlm(\"y_profit ~ w_cooler\", data_reg, groups=data_reg[\"X_gold\"])\n",
    "\n",
    "mdf = md.fit()\n",
    "\n",
    "print(mdf.summary())"
   ]
  },
  {
   "cell_type": "code",
   "execution_count": 375,
   "metadata": {},
   "outputs": [
    {
     "data": {
      "text/plain": [
       "Intercept    22.835452\n",
       "w_cooler      3.661208\n",
       "Group Var    12.383877\n",
       "dtype: float64"
      ]
     },
     "execution_count": 375,
     "metadata": {},
     "output_type": "execute_result"
    }
   ],
   "source": [
    "mdf.params"
   ]
  },
  {
   "cell_type": "code",
   "execution_count": 376,
   "metadata": {},
   "outputs": [
    {
     "data": {
      "text/plain": [
       "{0: Group   -3.058392\n",
       " dtype: float64, 1: Group    3.05839\n",
       " dtype: float64}"
      ]
     },
     "execution_count": 376,
     "metadata": {},
     "output_type": "execute_result"
    }
   ],
   "source": [
    "# Deviation from 'grand intercept' for each group\n",
    "mdf.random_effects"
   ]
  },
  {
   "cell_type": "code",
   "execution_count": null,
   "metadata": {},
   "outputs": [],
   "source": []
  },
  {
   "cell_type": "code",
   "execution_count": 398,
   "metadata": {},
   "outputs": [],
   "source": [
    "data_reg['intercept']=1\n",
    "endog = data_reg[['intercept', 'w_cooler']]"
   ]
  },
  {
   "cell_type": "code",
   "execution_count": 399,
   "metadata": {},
   "outputs": [
    {
     "name": "stdout",
     "output_type": "stream",
     "text": [
      "               Mixed Linear Model Regression Results\n",
      "===================================================================\n",
      "Model:                MixedLM    Dependent Variable:    y_profit   \n",
      "No. Observations:     75000      Method:                REML       \n",
      "No. Groups:           2          Scale:                 0.2494     \n",
      "Min. group size:      25000      Likelihood:            -54370.1622\n",
      "Max. group size:      50000      Converged:             Yes        \n",
      "Mean group size:      37500.0                                      \n",
      "-------------------------------------------------------------------\n",
      "                         Coef.  Std.Err.   z    P>|z| [0.025 0.975]\n",
      "-------------------------------------------------------------------\n",
      "intercept                22.498    1.496 15.039 0.000 19.566 25.430\n",
      "w_cooler                  3.998    0.699  5.716 0.000  2.627  5.369\n",
      "intercept Var             4.476    6.117                           \n",
      "intercept x w_cooler Cov  1.405    2.227                           \n",
      "w_cooler Var              0.978    1.299                           \n",
      "===================================================================\n",
      "\n"
     ]
    },
    {
     "name": "stderr",
     "output_type": "stream",
     "text": [
      "/home/miller/anaconda3/envs/dl/lib/python3.7/site-packages/statsmodels/regression/mixed_linear_model.py:2115: ConvergenceWarning: The Hessian matrix at the estimated parameter values is not positive definite.\n",
      "  warnings.warn(msg, ConvergenceWarning)\n"
     ]
    }
   ],
   "source": [
    "md = sm.MixedLM(data_reg.y_profit, endog,\n",
    "           data_reg.X_gold, endog)\n",
    "mdf = md.fit()\n",
    "print(mdf.summary())"
   ]
  },
  {
   "cell_type": "code",
   "execution_count": 400,
   "metadata": {},
   "outputs": [
    {
     "data": {
      "text/plain": [
       "{0: intercept   -2.498026\n",
       " w_cooler    -1.004303\n",
       " dtype: float64, 1: intercept    2.498026\n",
       " w_cooler     1.004302\n",
       " dtype: float64}"
      ]
     },
     "execution_count": 400,
     "metadata": {},
     "output_type": "execute_result"
    }
   ],
   "source": [
    "mdf.random_effects"
   ]
  }
 ],
 "metadata": {
  "kernelspec": {
   "display_name": "Python 3",
   "language": "python",
   "name": "python3"
  },
  "language_info": {
   "codemirror_mode": {
    "name": "ipython",
    "version": 3
   },
   "file_extension": ".py",
   "mimetype": "text/x-python",
   "name": "python",
   "nbconvert_exporter": "python",
   "pygments_lexer": "ipython3",
   "version": "3.7.4"
  }
 },
 "nbformat": 4,
 "nbformat_minor": 2
}
